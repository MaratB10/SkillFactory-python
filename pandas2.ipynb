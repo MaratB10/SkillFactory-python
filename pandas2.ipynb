medications = pd.Series(
        data = counts,
        index = names,
        name = "medications"