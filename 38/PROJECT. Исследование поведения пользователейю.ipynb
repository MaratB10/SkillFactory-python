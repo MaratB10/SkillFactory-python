{
 "cells": [
  {
   "cell_type": "markdown",
   "metadata": {},
   "source": [
    "## ЗАДАНИЕ"
   ]
  },
  {
   "cell_type": "markdown",
   "metadata": {},
   "source": [
    "#### Вам необходимо проверить: \n",
    "##### - есть ли зависимость между выбранным уровнем сложности и вероятностью оплаты;\n",
    "##### - различается ли временной промежуток между регистрацией и оплатой у групп пользователей с разным уровнем сложности.\n",
    "###### Проверку производите с использованием инструментов, изученных в ходе выполнения кейса."
   ]
  },
  {
   "cell_type": "code",
   "execution_count": 1,
   "metadata": {},
   "outputs": [],
   "source": [
    "import pandas as pd"
   ]
  },
  {
   "cell_type": "markdown",
   "metadata": {},
   "source": [
    "#### 1. Загружаем данные (выбираем только тех пользователи, что зарегистрировались в 2018 году)."
   ]
  },
  {
   "cell_type": "code",
   "execution_count": 2,
   "metadata": {},
   "outputs": [],
   "source": [
    "# Загружаем данные\n",
    "events = pd.read_csv( \\\n",
    "    'file:///C:/Users/Marat/Desktop/Python/SkillFactory-python/Data/7_4_Events.csv', sep=',')\n",
    "\n",
    "purchase = pd.read_csv( \\\n",
    "    'file:///C:/Users/Marat/Desktop/Python/SkillFactory-python/Data/purchase.csv', sep=',')"
   ]
  },
  {
   "cell_type": "code",
   "execution_count": 3,
   "metadata": {},
   "outputs": [],
   "source": [
    "# Делаем копии\n",
    "events_df = events.copy()\n",
    "purchase_df = purchase.copy()"
   ]
  },
  {
   "cell_type": "code",
   "execution_count": 4,
   "metadata": {},
   "outputs": [],
   "source": [
    "# Выбираем пользователей, зарегистрировавшихся в 2018 и добавляем в список registration_list\n",
    "registration_list = events_df[\n",
    "    (events_df['start_time'] >= '2018-01-01') \\\n",
    "        & (events_df['start_time'] < '2019-01-01') \\\n",
    "            & (events_df['event_type'] == 'registration')\n",
    "]['user_id'].to_list()        "
   ]
  },
  {
   "cell_type": "code",
   "execution_count": 5,
   "metadata": {},
   "outputs": [],
   "source": [
    "# таблицы events_df и purchase_df ограничиваем списком registration_list (выбираем 2018г.)\n",
    "events_df = events_df[events_df['user_id'].isin(registration_list)] \n",
    "purchase_df = purchase_df[purchase_df['user_id'].isin(registration_list)]   "
   ]
  },
  {
   "cell_type": "markdown",
   "metadata": {},
   "source": [
    "#### 2. Произвести предобработку данных: исследование, преобразование типов, где это необходимо."
   ]
  },
  {
   "cell_type": "code",
   "execution_count": 6,
   "metadata": {},
   "outputs": [],
   "source": [
    "# Выделяем событие оплаты\n",
    "purchase_df['event_type'] = 'purchase'"
   ]
  },
  {
   "cell_type": "code",
   "execution_count": 7,
   "metadata": {},
   "outputs": [],
   "source": [
    "# Переименовываем id\n",
    "events_df = events_df.rename(columns={\"id\": \"event_id\"})\n",
    "purchase_df = purchase_df.rename(columns={\"id\": \"purchase_id\"})"
   ]
  },
  {
   "cell_type": "code",
   "execution_count": 8,
   "metadata": {},
   "outputs": [],
   "source": [
    "# Преобразуем даты в DataTime\n",
    "events_df['start_time'] = pd.to_datetime(events_df['start_time'])\n",
    "purchase_df['event_datetime'] = pd.to_datetime(purchase_df['event_datetime'])"
   ]
  },
  {
   "cell_type": "code",
   "execution_count": 9,
   "metadata": {},
   "outputs": [
    {
     "name": "stdout",
     "output_type": "stream",
     "text": [
      "event_id          66959\n",
      "event_type            5\n",
      "selected_level        3\n",
      "start_time        66809\n",
      "tutorial_id       18050\n",
      "user_id           19926\n",
      "dtype: int64\n",
      "purchase_id       1600\n",
      "user_id           1600\n",
      "event_datetime    1600\n",
      "amount               7\n",
      "event_type           1\n",
      "dtype: int64\n",
      "['registration' 'tutorial_start' 'tutorial_finish' 'level_choice'\n",
      " 'pack_choice']\n",
      "[nan 'medium' 'hard' 'easy']\n",
      "['purchase']\n"
     ]
    }
   ],
   "source": [
    "# Смотрим какие поля можно преобразовать в category\n",
    "print(events_df.nunique())\n",
    "print(purchase_df.nunique())\n",
    "print(events_df['event_type'].unique())\n",
    "print(events_df['selected_level'].unique())\n",
    "print(purchase_df['event_type'].unique())"
   ]
  },
  {
   "cell_type": "code",
   "execution_count": 10,
   "metadata": {},
   "outputs": [],
   "source": [
    "# Преобразуем event_type и selected_level в category\n",
    "events_df['event_type'] = events_df['event_type'].astype('category')\n",
    "events_df['selected_level'] = events_df['selected_level'].astype('category')\n",
    "purchase_df['event_type'] = purchase_df['event_type'].astype('category')"
   ]
  },
  {
   "cell_type": "code",
   "execution_count": 11,
   "metadata": {},
   "outputs": [],
   "source": [
    "# Объединяем таблицы\n",
    "total_events_df = pd.concat([events_df,purchase_df],sort=False)"
   ]
  },
  {
   "cell_type": "code",
   "execution_count": 12,
   "metadata": {},
   "outputs": [],
   "source": [
    "# Преобразуем event_type в category (так как добавился новый тип)\n",
    "total_events_df['event_type'] = total_events_df['event_type'].astype('category')"
   ]
  },
  {
   "cell_type": "code",
   "execution_count": 13,
   "metadata": {},
   "outputs": [],
   "source": [
    "# Удаляем индекс и сортируем по start_time\n",
    "total_events_df = total_events_df.reset_index(drop=True).sort_values('start_time')"
   ]
  },
  {
   "cell_type": "markdown",
   "metadata": {},
   "source": [
    "#### 3. Создаем группы пользователей в зависимости от выбранной сложности."
   ]
  },
  {
   "cell_type": "code",
   "execution_count": 14,
   "metadata": {},
   "outputs": [
    {
     "data": {
      "text/plain": [
       "[NaN, 'medium', 'hard', 'easy']\n",
       "Categories (3, object): ['easy', 'hard', 'medium']"
      ]
     },
     "execution_count": 14,
     "metadata": {},
     "output_type": "execute_result"
    }
   ],
   "source": [
    "# Смотрим какие группы будем создавать\n",
    "total_events_df['selected_level'].unique()"
   ]
  },
  {
   "cell_type": "code",
   "execution_count": 15,
   "metadata": {},
   "outputs": [],
   "source": [
    "# Создаем 3 таблицы по каждую группу easy_level_df, medium_level_df и hard_level_df\n",
    "easy_level_df = total_events_df[total_events_df['selected_level'] == 'easy']\n",
    "medium_level_df = total_events_df[total_events_df['selected_level'] == 'medium']\n",
    "hard_level_df = total_events_df[total_events_df['selected_level'] == 'hard']"
   ]
  },
  {
   "cell_type": "code",
   "execution_count": 16,
   "metadata": {},
   "outputs": [
    {
     "name": "stdout",
     "output_type": "stream",
     "text": [
      "1.0\n",
      "1.0\n",
      "1.0\n"
     ]
    }
   ],
   "source": [
    "# Проверяем что user_id для каждой таблицы определены однозначно\n",
    "print(easy_level_df['user_id'].value_counts().mean())\n",
    "print(medium_level_df['user_id'].value_counts().mean())\n",
    "print(hard_level_df['user_id'].value_counts().mean())"
   ]
  },
  {
   "cell_type": "code",
   "execution_count": 17,
   "metadata": {},
   "outputs": [],
   "source": [
    "# Оставим только те данные, которые нужны для наших вычислений\n",
    "easy_level_df = easy_level_df[[\"user_id\", \"start_time\"]].rename(columns={\"start_time\": \"easy_level_time\"})\n",
    "medium_level_df = medium_level_df[[\"user_id\", \"start_time\"]].rename(columns={\"start_time\": \"medium_level_time\"})\n",
    "hard_level_df = hard_level_df[[\"user_id\", \"start_time\"]].rename(columns={\"start_time\": \"hard_level_time\"})"
   ]
  },
  {
   "cell_type": "code",
   "execution_count": 18,
   "metadata": {},
   "outputs": [],
   "source": [
    "# Для каждой группы создаем списки с уникальными user_id\n",
    "easy_level_list = easy_level_df[\"user_id\"].unique()\n",
    "medium_level_list = medium_level_df[\"user_id\"].unique()\n",
    "hard_level_list = hard_level_df[\"user_id\"].unique()"
   ]
  },
  {
   "cell_type": "code",
   "execution_count": 19,
   "metadata": {},
   "outputs": [],
   "source": [
    "# Создаем для каждой группы таблицу с оплатами\n",
    "purchase_df_1 = purchase_df[purchase_df[\"user_id\"].isin(easy_level_list)]\n",
    "purchase_df_2 = purchase_df[purchase_df[\"user_id\"].isin(medium_level_list)]\n",
    "purchase_df_3 = purchase_df[purchase_df[\"user_id\"].isin(hard_level_list)]"
   ]
  },
  {
   "cell_type": "code",
   "execution_count": 20,
   "metadata": {},
   "outputs": [],
   "source": [
    "# Оставим только те данные, которые нужны для наших вычислений\n",
    "purchase_df_1 = purchase_df_1[[\"user_id\", \"event_datetime\"]].rename(columns={\"event_datetime\": \"purchase_time\"})\n",
    "purchase_df_2 = purchase_df_2[[\"user_id\", \"event_datetime\"]].rename(columns={\"event_datetime\": \"purchase_time\"})\n",
    "purchase_df_3 = purchase_df_3[[\"user_id\", \"event_datetime\"]].rename(columns={\"event_datetime\": \"purchase_time\"})"
   ]
  },
  {
   "cell_type": "markdown",
   "metadata": {},
   "source": [
    "#### 4. Для каждой группы подсчитаем процент пользователей, оплативших пакеты вопросов."
   ]
  },
  {
   "cell_type": "code",
   "execution_count": 21,
   "metadata": {},
   "outputs": [
    {
     "name": "stdout",
     "output_type": "stream",
     "text": [
      "Процент пользователей, которые оплатили тренировки (от числа пользователей, выбравших уровень easy): 7.72%\n"
     ]
    }
   ],
   "source": [
    "# Вычисляем процент оплат для группы easy\n",
    "percent_of_purchase_1 = purchase_df_1['user_id'].nunique() / len(easy_level_list)\n",
    "\n",
    "print(\n",
    "    \"Процент пользователей, которые оплатили тренировки (от числа пользователей, выбравших уровень easy): {:.2%}\".format(\n",
    "        percent_of_purchase_1\n",
    "    )\n",
    ")"
   ]
  },
  {
   "cell_type": "code",
   "execution_count": 22,
   "metadata": {},
   "outputs": [
    {
     "name": "stdout",
     "output_type": "stream",
     "text": [
      "Процент пользователей, которые оплатили тренировки (от числа пользователей, выбравших уровень medium): 20.86%\n"
     ]
    }
   ],
   "source": [
    "# Вычисляем процент оплат для группы medium\n",
    "percent_of_purchase_2 = purchase_df_2['user_id'].nunique() / len(medium_level_list)\n",
    "\n",
    "print(\n",
    "    \"Процент пользователей, которые оплатили тренировки (от числа пользователей, выбравших уровень medium): {:.2%}\".format(\n",
    "        percent_of_purchase_2\n",
    "    )\n",
    ")"
   ]
  },
  {
   "cell_type": "code",
   "execution_count": 23,
   "metadata": {},
   "outputs": [
    {
     "name": "stdout",
     "output_type": "stream",
     "text": [
      "Процент пользователей, которые оплатили тренировки (от числа пользователей, выбравших уровень hard): 35.39%\n"
     ]
    }
   ],
   "source": [
    "# Вычисляем процент оплат для группы hard\n",
    "percent_of_purchase_3 = purchase_df_3['user_id'].nunique() / len(hard_level_list)\n",
    "\n",
    "print(\n",
    "    \"Процент пользователей, которые оплатили тренировки (от числа пользователей, выбравших уровень hard): {:.2%}\".format(\n",
    "        percent_of_purchase_3\n",
    "    )\n",
    ")"
   ]
  },
  {
   "cell_type": "markdown",
   "metadata": {},
   "source": [
    "#### 5. Для каждой группы посчитаем среднее время между событиями оплаты и выбором уровня сложности."
   ]
  },
  {
   "cell_type": "code",
   "execution_count": 24,
   "metadata": {},
   "outputs": [],
   "source": [
    "# Мерджим таблицы уровней с таблицами оплат\n",
    "merged_df_1 = easy_level_df.merge(purchase_df_1, on = \"user_id\", how = \"inner\")\n",
    "merged_df_2 = medium_level_df.merge(purchase_df_2, on = \"user_id\", how = \"inner\")\n",
    "merged_df_3 = hard_level_df.merge(purchase_df_3, on = \"user_id\", how = \"inner\")"
   ]
  },
  {
   "cell_type": "code",
   "execution_count": 25,
   "metadata": {},
   "outputs": [],
   "source": [
    "# Добавляем поле timedelta - между событиями оплаты и выбором уровня сложности\n",
    "merged_df_1[\"timedelta\"] = (merged_df_1[\"purchase_time\"] - merged_df_1[\"easy_level_time\"])\n",
    "merged_df_2[\"timedelta\"] = (merged_df_2[\"purchase_time\"] - merged_df_2[\"medium_level_time\"])\n",
    "merged_df_3[\"timedelta\"] = (merged_df_3[\"purchase_time\"] - merged_df_3[\"hard_level_time\"])"
   ]
  },
  {
   "cell_type": "code",
   "execution_count": 26,
   "metadata": {},
   "outputs": [
    {
     "name": "stdout",
     "output_type": "stream",
     "text": [
      "3 days 14:58:52.941798941\n",
      "count                          189\n",
      "mean     3 days 14:58:52.941798941\n",
      "std      2 days 07:06:35.644097504\n",
      "min                0 days 00:49:20\n",
      "25%                1 days 17:18:56\n",
      "50%                3 days 06:03:50\n",
      "75%                5 days 06:58:18\n",
      "max               10 days 18:35:09\n",
      "Name: timedelta, dtype: object\n"
     ]
    }
   ],
   "source": [
    "# Среднее время между событиями оплаты и выбором уровня сложности easy\n",
    "print(merged_df_1[\"timedelta\"].mean())\n",
    "print(merged_df_1[\"timedelta\"].describe())"
   ]
  },
  {
   "cell_type": "code",
   "execution_count": 27,
   "metadata": {},
   "outputs": [
    {
     "name": "stdout",
     "output_type": "stream",
     "text": [
      "3 days 23:14:13.165118679\n",
      "count                          969\n",
      "mean     3 days 23:14:13.165118679\n",
      "std      2 days 06:18:57.618467109\n",
      "min                0 days 04:18:12\n",
      "25%                2 days 01:20:07\n",
      "50%                3 days 19:53:19\n",
      "75%                5 days 16:07:19\n",
      "max               10 days 13:51:01\n",
      "Name: timedelta, dtype: object\n"
     ]
    }
   ],
   "source": [
    "# Среднее время между событиями оплаты и выбором уровня сложности medium\n",
    "print(merged_df_2[\"timedelta\"].mean())\n",
    "print(merged_df_2[\"timedelta\"].describe())"
   ]
  },
  {
   "cell_type": "code",
   "execution_count": 28,
   "metadata": {},
   "outputs": [
    {
     "name": "stdout",
     "output_type": "stream",
     "text": [
      "3 days 07:20:41.420814479\n",
      "count                          442\n",
      "mean     3 days 07:20:41.420814479\n",
      "std      1 days 21:43:52.953292605\n",
      "min                0 days 03:26:45\n",
      "25%         1 days 14:57:23.500000\n",
      "50%         3 days 03:13:57.500000\n",
      "75%         4 days 19:16:00.250000\n",
      "max                8 days 01:18:13\n",
      "Name: timedelta, dtype: object\n"
     ]
    }
   ],
   "source": [
    "# Среднее время между событиями оплаты и выбором уровня сложности hard\n",
    "print(merged_df_3[\"timedelta\"].mean())\n",
    "print(merged_df_3[\"timedelta\"].describe())"
   ]
  },
  {
   "cell_type": "markdown",
   "metadata": {},
   "source": [
    "#### 6. Выводы о различии в показателях между группами"
   ]
  },
  {
   "cell_type": "markdown",
   "metadata": {},
   "source": [
    "##### Процент пользователей, которые оплатили пакет вопросов значительно увеличивается с увеличением сложности уровня.  Т.е. выбор уровня влияет на мотивации дальнейшего использования приложения.\n",
    "##### Временные результаты можно использовать для оптимизации медианного времени т.к. квартиль значительно ниже"
   ]
  },
  {
   "cell_type": "markdown",
   "metadata": {},
   "source": [
    "#### 7. Проверям, существует ли разница во времени между событиями регистрации и оплаты."
   ]
  },
  {
   "cell_type": "code",
   "execution_count": 29,
   "metadata": {},
   "outputs": [],
   "source": [
    "# Выделим отдельную таблицу registration_df, который будет содержать только события с event_type = registration\n",
    "registration_df = total_events_df[total_events_df['event_type'] == 'registration']"
   ]
  },
  {
   "cell_type": "code",
   "execution_count": 30,
   "metadata": {},
   "outputs": [],
   "source": [
    "# Создаем для каждой группы таблицу с регистрациями\n",
    "registration_df_1 = registration_df[registration_df[\"user_id\"].isin(easy_level_list)]\n",
    "registration_df_2 = registration_df[registration_df[\"user_id\"].isin(medium_level_list)]\n",
    "registration_df_3 = registration_df[registration_df[\"user_id\"].isin(hard_level_list)]"
   ]
  },
  {
   "cell_type": "code",
   "execution_count": 31,
   "metadata": {},
   "outputs": [],
   "source": [
    "# Оставим только те данные, которые нужны для наших вычислений\n",
    "registration_df_1 = registration_df_1[[\"user_id\", \"start_time\"]].rename(columns={\"start_time\": \"registration_time\"})\n",
    "registration_df_2 = registration_df_2[[\"user_id\", \"start_time\"]].rename(columns={\"start_time\": \"registration_time\"})\n",
    "registration_df_3 = registration_df_3[[\"user_id\", \"start_time\"]].rename(columns={\"start_time\": \"registration_time\"})"
   ]
  },
  {
   "cell_type": "code",
   "execution_count": 32,
   "metadata": {},
   "outputs": [],
   "source": [
    "# Мерджим таблицы регисраций с таблицами оплат\n",
    "merged_df_4 = registration_df_1.merge(purchase_df_1, on = \"user_id\", how = \"inner\")\n",
    "merged_df_5 = registration_df_2.merge(purchase_df_2, on = \"user_id\", how = \"inner\")\n",
    "merged_df_6 = registration_df_3.merge(purchase_df_3, on = \"user_id\", how = \"inner\")"
   ]
  },
  {
   "cell_type": "code",
   "execution_count": 33,
   "metadata": {},
   "outputs": [],
   "source": [
    "# Добавляем поле timedelta - между событиями оплаты и выбором уровня сложности\n",
    "merged_df_4[\"timedelta\"] = (merged_df_4[\"purchase_time\"] - merged_df_4[\"registration_time\"])\n",
    "merged_df_5[\"timedelta\"] = (merged_df_5[\"purchase_time\"] - merged_df_5[\"registration_time\"])\n",
    "merged_df_6[\"timedelta\"] = (merged_df_6[\"purchase_time\"] - merged_df_6[\"registration_time\"])"
   ]
  },
  {
   "cell_type": "code",
   "execution_count": 34,
   "metadata": {},
   "outputs": [
    {
     "name": "stdout",
     "output_type": "stream",
     "text": [
      "3 days 22:10:23.211640211\n",
      "count                          189\n",
      "mean     3 days 22:10:23.211640211\n",
      "std      2 days 07:14:41.062010764\n",
      "min                0 days 04:36:58\n",
      "25%                2 days 01:12:12\n",
      "50%                3 days 11:00:23\n",
      "75%                5 days 10:24:59\n",
      "max               11 days 00:35:04\n",
      "Name: timedelta, dtype: object\n"
     ]
    }
   ],
   "source": [
    "# Среднее время между событиями оплаты и регистрацией для пользователей, выбравших уровень сложности easy\n",
    "print(merged_df_4[\"timedelta\"].mean())\n",
    "print(merged_df_4[\"timedelta\"].describe())"
   ]
  },
  {
   "cell_type": "code",
   "execution_count": 35,
   "metadata": {},
   "outputs": [
    {
     "name": "stdout",
     "output_type": "stream",
     "text": [
      "4 days 06:12:06.576883384\n",
      "count                          969\n",
      "mean     4 days 06:12:06.576883384\n",
      "std      2 days 06:25:57.480868026\n",
      "min                0 days 08:39:24\n",
      "25%                2 days 08:46:51\n",
      "50%                4 days 03:35:26\n",
      "75%                5 days 23:51:27\n",
      "max               10 days 20:34:02\n",
      "Name: timedelta, dtype: object\n"
     ]
    }
   ],
   "source": [
    "# Среднее время между событиями оплаты и регистрацией для пользователей, выбравших уровень сложности medium\n",
    "print(merged_df_5[\"timedelta\"].mean())\n",
    "print(merged_df_5[\"timedelta\"].describe())"
   ]
  },
  {
   "cell_type": "code",
   "execution_count": 36,
   "metadata": {},
   "outputs": [
    {
     "name": "stdout",
     "output_type": "stream",
     "text": [
      "3 days 14:55:19.257918552\n",
      "count                          442\n",
      "mean     3 days 14:55:19.257918552\n",
      "std      1 days 22:22:52.441896774\n",
      "min                0 days 09:41:39\n",
      "25%         1 days 23:36:25.500000\n",
      "50%         3 days 10:10:04.500000\n",
      "75%         5 days 03:30:07.750000\n",
      "max                8 days 14:21:29\n",
      "Name: timedelta, dtype: object\n"
     ]
    }
   ],
   "source": [
    "# Среднее время между событиями оплаты и регистрацией для пользователей, выбравших уровень сложности hard\n",
    "print(merged_df_6[\"timedelta\"].mean())\n",
    "print(merged_df_6[\"timedelta\"].describe())"
   ]
  },
  {
   "cell_type": "markdown",
   "metadata": {},
   "source": [
    "##### при выборе уровня medium времени от регистрации до оплаты тратиться больше чем при выборе других уровней сложности. "
   ]
  }
 ],
 "metadata": {
  "interpreter": {
   "hash": "cfb225017eaa60033242ade7cd3aecd3095cd8c212fd294680e6df342bf262c4"
  },
  "kernelspec": {
   "display_name": "Python 3.9.9 64-bit",
   "language": "python",
   "name": "python3"
  },
  "language_info": {
   "codemirror_mode": {
    "name": "ipython",
    "version": 3
   },
   "file_extension": ".py",
   "mimetype": "text/x-python",
   "name": "python",
   "nbconvert_exporter": "python",
   "pygments_lexer": "ipython3",
   "version": "3.9.9"
  },
  "orig_nbformat": 4
 },
 "nbformat": 4,
 "nbformat_minor": 2
}
